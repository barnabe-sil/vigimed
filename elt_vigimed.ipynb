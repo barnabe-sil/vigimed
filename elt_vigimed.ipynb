{
  "nbformat": 4,
  "nbformat_minor": 0,
  "metadata": {
    "colab": {
      "provenance": [],
      "toc_visible": true,
      "authorship_tag": "ABX9TyPJGaIcmjfBsVLVm8E3KwJy",
      "include_colab_link": true
    },
    "kernelspec": {
      "name": "python3",
      "display_name": "Python 3"
    },
    "language_info": {
      "name": "python"
    }
  },
  "cells": [
    {
      "cell_type": "markdown",
      "metadata": {
        "id": "view-in-github",
        "colab_type": "text"
      },
      "source": [
        "<a href=\"https://colab.research.google.com/github/barnabe-sil/vigimed/blob/carlise%2F01_bronze%2Falteracoes-elt/elt_vigimed.ipynb\" target=\"_parent\"><img src=\"https://colab.research.google.com/assets/colab-badge.svg\" alt=\"Open In Colab\"/></a>"
      ]
    },
    {
      "cell_type": "code",
      "execution_count": 57,
      "metadata": {
        "id": "0SSbUc_QLHmR"
      },
      "outputs": [],
      "source": [
        "import pandas as pd, csv\n",
        "from datetime import datetime\n",
        "\n",
        "# Mostra todas as colunas, sem limite\n",
        "pd.set_option('display.max_columns', None)\n",
        "\n",
        "# (Opcional) Ajustes que costumam ajudar:\n",
        "pd.set_option('display.expand_frame_repr', False)   # evita quebra de linha\n",
        "pd.set_option('display.max_colwidth', None)         # mostra o conteúdo completo das células\n",
        "pd.set_option('display.width', 0)                   # usa toda a largura do notebook\n"
      ]
    },
    {
      "cell_type": "code",
      "source": [
        "from google.colab import drive\n",
        "drive.mount('/content/drive')"
      ],
      "metadata": {
        "colab": {
          "base_uri": "https://localhost:8080/"
        },
        "id": "3BZnNk2LTPOK",
        "outputId": "18619dcd-c3ec-4e1b-d1b3-39fab4470915"
      },
      "execution_count": 58,
      "outputs": [
        {
          "output_type": "stream",
          "name": "stdout",
          "text": [
            "Drive already mounted at /content/drive; to attempt to forcibly remount, call drive.mount(\"/content/drive\", force_remount=True).\n"
          ]
        }
      ]
    },
    {
      "cell_type": "code",
      "source": [
        "layer ='01_bronze'\n",
        "dataset = 'medicamentos'\n",
        "ts = datetime.now().strftime(\"%Y_%m_%d_%H_%M_%S\") #'2025_06_30_14_17_00'\n",
        "input = r'/content/drive/MyDrive/'\n",
        "output = r\"/content/drive/MyDrive/\"+layer+\"/\"+dataset+\"/\"+ts+\".csv\"\n",
        "print(output)"
      ],
      "metadata": {
        "colab": {
          "base_uri": "https://localhost:8080/"
        },
        "id": "MNI4ycSFYGEA",
        "outputId": "7c61b461-f1dc-4f6c-eae7-c4bea1567618"
      },
      "execution_count": 59,
      "outputs": [
        {
          "output_type": "stream",
          "name": "stdout",
          "text": [
            "/content/drive/MyDrive/01_bronze/medicamentos/2025_07_29_18_27_51.csv\n"
          ]
        }
      ]
    },
    {
      "cell_type": "code",
      "source": [
        "df_medicamentos = pd.read_csv(input+'/VigiMed_Medicamentos.csv',\n",
        "                 sep=';',\n",
        "        encoding='latin-1',\n",
        "        dtype=str,\n",
        "        #engine='python',          # motor flexível\n",
        "        quoting=csv.QUOTE_NONE,   # não trate aspas como delimitador\n",
        "        #escapechar='\\\\',          # caso apareçam barras de escape\n",
        "        on_bad_lines='error',     # queremos erro explícito se algo fugir do layout\n",
        "        low_memory=False\n",
        "                 )"
      ],
      "metadata": {
        "id": "fo0cObPXYe_n"
      },
      "execution_count": 60,
      "outputs": []
    },
    {
      "cell_type": "code",
      "source": [
        "df_medicamentos.to_csv(output, sep=';', compression=\"gzip\", index=False, encoding='utf-8')"
      ],
      "metadata": {
        "id": "pruvfeRnZTUh"
      },
      "execution_count": 61,
      "outputs": []
    },
    {
      "cell_type": "code",
      "source": [
        "layer ='01_bronze'\n",
        "dataset = 'notificacoes'\n",
        "ts = datetime.now().strftime(\"%Y_%m_%d_%H_%M_%S\") #'2025_06_30_14_17_00'\n",
        "input = r'/content/drive/MyDrive/'\n",
        "output = r\"/content/drive/MyDrive/\"+layer+\"/\"+dataset+\"/\"+ts+\".csv\"\n",
        "print(output)"
      ],
      "metadata": {
        "colab": {
          "base_uri": "https://localhost:8080/"
        },
        "id": "dRmQlVqiZgnv",
        "outputId": "962d4651-577d-4d08-b0cf-5b07890c485a"
      },
      "execution_count": 62,
      "outputs": [
        {
          "output_type": "stream",
          "name": "stdout",
          "text": [
            "/content/drive/MyDrive/01_bronze/notificacoes/2025_07_29_18_28_08.csv\n"
          ]
        }
      ]
    },
    {
      "cell_type": "code",
      "source": [
        "df_notificacoes = pd.read_csv(input+'/VigiMed_Notificacoes.csv',\n",
        "                 sep=';',\n",
        "        encoding='latin-1',\n",
        "        dtype=str,\n",
        "        #engine='python',          # motor flexível\n",
        "        quoting=csv.QUOTE_NONE,   # não trate aspas como delimitador\n",
        "        #escapechar='\\\\',          # caso apareçam barras de escape\n",
        "        on_bad_lines='error',     # queremos erro explícito se algo fugir do layout\n",
        "        low_memory=False\n",
        "                 )"
      ],
      "metadata": {
        "id": "i_YDxx-yZk6f"
      },
      "execution_count": 63,
      "outputs": []
    },
    {
      "cell_type": "code",
      "source": [
        "df_notificacoes.to_csv(output, sep=';', compression=\"gzip\", index=False, encoding='utf-8')"
      ],
      "metadata": {
        "id": "CS3pf166afzX"
      },
      "execution_count": 64,
      "outputs": []
    },
    {
      "cell_type": "code",
      "source": [
        "layer ='01_bronze'\n",
        "dataset = 'reacoes'\n",
        "ts = datetime.now().strftime(\"%Y_%m_%d_%H_%M_%S\") #'2025_06_30_14_17_00'\n",
        "input = r'/content/drive/MyDrive/'\n",
        "output = r\"/content/drive/MyDrive/\"+layer+\"/\"+dataset+\"/\"+ts+\".csv\"\n",
        "print(output)"
      ],
      "metadata": {
        "colab": {
          "base_uri": "https://localhost:8080/"
        },
        "id": "2rH75LCqZ6yw",
        "outputId": "519ff636-3acc-4ae1-bc2f-c525a2d13a6a"
      },
      "execution_count": 65,
      "outputs": [
        {
          "output_type": "stream",
          "name": "stdout",
          "text": [
            "/content/drive/MyDrive/01_bronze/reacoes/2025_07_29_18_28_20.csv\n"
          ]
        }
      ]
    },
    {
      "cell_type": "code",
      "source": [
        "df_reacoes = pd.read_csv(input+'/VigiMed_Reacoes.csv',\n",
        "                 sep=';',\n",
        "        encoding='latin-1',\n",
        "        dtype=str,\n",
        "        #engine='python',          # motor flexível\n",
        "        quoting=csv.QUOTE_NONE,   # não trate aspas como delimitador\n",
        "        #escapechar='\\\\',          # caso apareçam barras de escape\n",
        "        on_bad_lines='error',     # queremos erro explícito se algo fugir do layout\n",
        "        low_memory=False\n",
        "                 )"
      ],
      "metadata": {
        "id": "kGmMo83qZ78_"
      },
      "execution_count": 66,
      "outputs": []
    },
    {
      "cell_type": "code",
      "source": [
        "df_reacoes.to_csv(output, sep=';', compression=\"gzip\", index=False, encoding='utf-8')"
      ],
      "metadata": {
        "id": "vBsVb1nJaCmA"
      },
      "execution_count": 67,
      "outputs": []
    }
  ]
}